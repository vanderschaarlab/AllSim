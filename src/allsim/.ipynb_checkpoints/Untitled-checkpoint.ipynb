{
 "cells": [
  {
   "cell_type": "code",
   "execution_count": 1,
   "metadata": {},
   "outputs": [],
   "source": [
    "%reload_ext autoreload\n",
    "%autoreload 2\n",
    "\n",
    "\n",
    "import sys, os\n",
    "module_path = os.path.abspath(os.path.join('..'))\n",
    "if module_path not in sys.path:\n",
    "    sys.path.append(module_path)\n",
    "    \n",
    "import numpy as np\n",
    "import pandas as pd\n",
    "\n",
    "import matplotlib.pyplot as plt\n",
    "\n",
    "import scipy as sp\n",
    "from scipy.ndimage.filters import gaussian_filter1d\n",
    "\n",
    "from collections import Counter\n",
    "\n",
    "\n",
    "\n",
    "    \n",
    "import allsim.infer as infer\n",
    "from data.data_module import UNOSDataModule, UKRegDataModule"
   ]
  },
  {
   "cell_type": "code",
   "execution_count": 2,
   "metadata": {},
   "outputs": [
    {
     "name": "stderr",
     "output_type": "stream",
     "text": [
      "/Users/jeroenberrevoets/.virtualenvs/allsim/lib/python3.8/site-packages/pytorch_lightning/core/datamodule.py:175: LightningDeprecationWarning: DataModule property `dims` was deprecated in v1.5 and will be removed in v1.7.\n",
      "  rank_zero_deprecation(\"DataModule property `dims` was deprecated in v1.5 and will be removed in v1.7.\")\n",
      "/Users/jeroenberrevoets/.virtualenvs/allsim/lib/python3.8/site-packages/sklearn/base.py:329: UserWarning: Trying to unpickle estimator StandardScaler from version 0.24.2 when using version 1.0.2. This might lead to breaking code or invalid results. Use at your own risk. For more info please refer to:\n",
      "https://scikit-learn.org/stable/modules/model_persistence.html#security-maintainability-limitations\n",
      "  warnings.warn(\n"
     ]
    }
   ],
   "source": [
    "data = 'UKReg'\n",
    "data_dir = f'../data/{data}'\n",
    "\n",
    "if data == 'UNOS':\n",
    "    dm = UNOSDataModule(data_dir, batch_size=256)\n",
    "else:\n",
    "    dm = UKRegDataModule(data_dir, batch_size=256)\n",
    "\n",
    "dm.prepare_data()\n",
    "dm.setup(stage='fit')\n",
    "\n",
    "DATA = pd.concat([dm._test_processed.copy(deep=True), dm._train_processed.copy(deep=True)])\n",
    "DATA_true = DATA.copy(deep=True)\n",
    "DATA_true[dm.real_cols] = dm.scaler.inverse_transform(\n",
    "    DATA_true[dm.real_cols])\n",
    "DATA_true['retrieval_date_time'] = pd.to_datetime(\n",
    "    DATA_true.retrieval_date, unit='s')\n",
    "\n",
    "patients = DATA_true[dm.x_cols].copy(deep=True)\n",
    "organs = DATA_true[\n",
    "    [*np.delete(dm.o_cols, np.where(dm.o_cols == 'retrieval_date')), 'retrieval_date_time']\n",
    "].copy(deep=True)\n",
    "\n",
    "X = patients\n",
    "O = organs\n",
    "Y = dm._train_processed.Y\n",
    "\n",
    "\n",
    "O_indices_in_real_cols = np.where(np.in1d(dm.real_cols, O.columns.values))[0]\n",
    "mean_real_cols_O = dm.scaler.mean_[O_indices_in_real_cols]\n",
    "scale_real_cols_O = dm.scaler.scale_[O_indices_in_real_cols]\n",
    "real_cols_indices_in_O = np.where(np.in1d(O.columns.values, dm.real_cols))[0]\n"
   ]
  },
  {
   "cell_type": "code",
   "execution_count": 9,
   "metadata": {},
   "outputs": [],
   "source": [
    "bins = [30, 45, 60]\n",
    "\n",
    "def condition_function(age):\n",
    "    i = np.where(np.in1d(dm.real_cols, 'DAGE'))[0]\n",
    "    age=age\n",
    "    return np.digitize(age, bins=bins).item()\n",
    "\n",
    "\n",
    "condition = infer.Condition(\n",
    "    labels=['DAGE'],\n",
    "    function=condition_function,\n",
    "    options=len(bins) + 1\n",
    ")\n",
    "\n",
    "kde = infer.KDEDensity(condition=condition, K=len(bins) + 1, drop=['retrieval_date_time'])\n",
    "\n",
    "\n",
    "kde.fit(O, [['DCOD_0', 'DCOD_10', 'DCOD_11', 'DCOD_12',\n",
    "       'DCOD_13', 'DCOD_19', 'DCOD_20', 'DCOD_21', 'DCOD_22', 'DCOD_23',\n",
    "       'DCOD_24', 'DCOD_29', 'DCOD_30', 'DCOD_31', 'DCOD_39', 'DCOD_40',\n",
    "       'DCOD_41', 'DCOD_42', 'DCOD_43', 'DCOD_44', 'DCOD_45', 'DCOD_49',\n",
    "       'DCOD_50', 'DCOD_51', 'DCOD_52', 'DCOD_53', 'DCOD_54', 'DCOD_59',\n",
    "       'DCOD_60', 'DCOD_70', 'DCOD_71', 'DCOD_72', 'DCOD_81', 'DCOD_82',\n",
    "       'DCOD_85', 'DCOD_88', 'DCOD_90', 'DCOD_98', 'DCOD_99']])"
   ]
  },
  {
   "cell_type": "code",
   "execution_count": 10,
   "metadata": {},
   "outputs": [
    {
     "name": "stderr",
     "output_type": "stream",
     "text": [
      "/Users/jeroenberrevoets/.virtualenvs/allsim/lib/python3.8/site-packages/pandas/core/indexing.py:1678: SettingWithCopyWarning: \n",
      "A value is trying to be set on a copy of a slice from a DataFrame.\n",
      "Try using .loc[row_indexer,col_indexer] = value instead\n",
      "\n",
      "See the caveats in the documentation: https://pandas.pydata.org/pandas-docs/stable/user_guide/indexing.html#returning-a-view-versus-a-copy\n",
      "  self.obj[key] = empty_value\n",
      "/Users/jeroenberrevoets/.virtualenvs/allsim/lib/python3.8/site-packages/pandas/core/indexing.py:1773: SettingWithCopyWarning: \n",
      "A value is trying to be set on a copy of a slice from a DataFrame.\n",
      "Try using .loc[row_indexer,col_indexer] = value instead\n",
      "\n",
      "See the caveats in the documentation: https://pandas.pydata.org/pandas-docs/stable/user_guide/indexing.html#returning-a-view-versus-a-copy\n",
      "  self._setitem_single_column(ilocs[0], value, pi)\n",
      "/Users/jeroenberrevoets/.virtualenvs/allsim/lib/python3.8/site-packages/pandas/core/indexing.py:1773: SettingWithCopyWarning: \n",
      "A value is trying to be set on a copy of a slice from a DataFrame.\n",
      "Try using .loc[row_indexer,col_indexer] = value instead\n",
      "\n",
      "See the caveats in the documentation: https://pandas.pydata.org/pandas-docs/stable/user_guide/indexing.html#returning-a-view-versus-a-copy\n",
      "  self._setitem_single_column(ilocs[0], value, pi)\n",
      "/Users/jeroenberrevoets/.virtualenvs/allsim/lib/python3.8/site-packages/pandas/core/indexing.py:1773: SettingWithCopyWarning: \n",
      "A value is trying to be set on a copy of a slice from a DataFrame.\n",
      "Try using .loc[row_indexer,col_indexer] = value instead\n",
      "\n",
      "See the caveats in the documentation: https://pandas.pydata.org/pandas-docs/stable/user_guide/indexing.html#returning-a-view-versus-a-copy\n",
      "  self._setitem_single_column(ilocs[0], value, pi)\n",
      "/Users/jeroenberrevoets/.virtualenvs/allsim/lib/python3.8/site-packages/pandas/core/indexing.py:1773: SettingWithCopyWarning: \n",
      "A value is trying to be set on a copy of a slice from a DataFrame.\n",
      "Try using .loc[row_indexer,col_indexer] = value instead\n",
      "\n",
      "See the caveats in the documentation: https://pandas.pydata.org/pandas-docs/stable/user_guide/indexing.html#returning-a-view-versus-a-copy\n",
      "  self._setitem_single_column(ilocs[0], value, pi)\n",
      "/Users/jeroenberrevoets/.virtualenvs/allsim/lib/python3.8/site-packages/pandas/core/indexing.py:1773: SettingWithCopyWarning: \n",
      "A value is trying to be set on a copy of a slice from a DataFrame.\n",
      "Try using .loc[row_indexer,col_indexer] = value instead\n",
      "\n",
      "See the caveats in the documentation: https://pandas.pydata.org/pandas-docs/stable/user_guide/indexing.html#returning-a-view-versus-a-copy\n",
      "  self._setitem_single_column(ilocs[0], value, pi)\n",
      "/Users/jeroenberrevoets/.virtualenvs/allsim/lib/python3.8/site-packages/pandas/core/indexing.py:1773: SettingWithCopyWarning: \n",
      "A value is trying to be set on a copy of a slice from a DataFrame.\n",
      "Try using .loc[row_indexer,col_indexer] = value instead\n",
      "\n",
      "See the caveats in the documentation: https://pandas.pydata.org/pandas-docs/stable/user_guide/indexing.html#returning-a-view-versus-a-copy\n",
      "  self._setitem_single_column(ilocs[0], value, pi)\n",
      "/Users/jeroenberrevoets/.virtualenvs/allsim/lib/python3.8/site-packages/pandas/core/indexing.py:1773: SettingWithCopyWarning: \n",
      "A value is trying to be set on a copy of a slice from a DataFrame.\n",
      "Try using .loc[row_indexer,col_indexer] = value instead\n",
      "\n",
      "See the caveats in the documentation: https://pandas.pydata.org/pandas-docs/stable/user_guide/indexing.html#returning-a-view-versus-a-copy\n",
      "  self._setitem_single_column(ilocs[0], value, pi)\n",
      "/Users/jeroenberrevoets/.virtualenvs/allsim/lib/python3.8/site-packages/pandas/core/indexing.py:1773: SettingWithCopyWarning: \n",
      "A value is trying to be set on a copy of a slice from a DataFrame.\n",
      "Try using .loc[row_indexer,col_indexer] = value instead\n",
      "\n",
      "See the caveats in the documentation: https://pandas.pydata.org/pandas-docs/stable/user_guide/indexing.html#returning-a-view-versus-a-copy\n",
      "  self._setitem_single_column(ilocs[0], value, pi)\n",
      "/Users/jeroenberrevoets/.virtualenvs/allsim/lib/python3.8/site-packages/pandas/core/indexing.py:1773: SettingWithCopyWarning: \n",
      "A value is trying to be set on a copy of a slice from a DataFrame.\n",
      "Try using .loc[row_indexer,col_indexer] = value instead\n",
      "\n",
      "See the caveats in the documentation: https://pandas.pydata.org/pandas-docs/stable/user_guide/indexing.html#returning-a-view-versus-a-copy\n",
      "  self._setitem_single_column(ilocs[0], value, pi)\n",
      "/Users/jeroenberrevoets/.virtualenvs/allsim/lib/python3.8/site-packages/pandas/core/indexing.py:1773: SettingWithCopyWarning: \n",
      "A value is trying to be set on a copy of a slice from a DataFrame.\n",
      "Try using .loc[row_indexer,col_indexer] = value instead\n",
      "\n",
      "See the caveats in the documentation: https://pandas.pydata.org/pandas-docs/stable/user_guide/indexing.html#returning-a-view-versus-a-copy\n",
      "  self._setitem_single_column(ilocs[0], value, pi)\n",
      "/Users/jeroenberrevoets/.virtualenvs/allsim/lib/python3.8/site-packages/pandas/core/indexing.py:1773: SettingWithCopyWarning: \n",
      "A value is trying to be set on a copy of a slice from a DataFrame.\n",
      "Try using .loc[row_indexer,col_indexer] = value instead\n",
      "\n",
      "See the caveats in the documentation: https://pandas.pydata.org/pandas-docs/stable/user_guide/indexing.html#returning-a-view-versus-a-copy\n",
      "  self._setitem_single_column(ilocs[0], value, pi)\n"
     ]
    }
   ],
   "source": [
    "years = [2017, 2018, 2019]\n",
    "system = dict()\n",
    "\n",
    "from sklearn.preprocessing import PolynomialFeatures\n",
    "from sklearn.linear_model import LinearRegression\n",
    "from sklearn.pipeline import Pipeline\n",
    "\n",
    "\n",
    "O_ = O[pd.DatetimeIndex(O.retrieval_date_time).year.isin(years)]\n",
    "\n",
    "data = dict()\n",
    "\n",
    "for c in kde.D.condition.unique():\n",
    "    xy = np.empty((0, 2))\n",
    "    conditioned_group = kde.D[kde.D.condition == c].copy(deep=True)\n",
    "    \n",
    "    for i, year in enumerate(years):\n",
    "        rates = dict(Counter([\n",
    "            date.month for date in conditioned_group[\n",
    "                pd.DatetimeIndex(\n",
    "                    conditioned_group.retrieval_date_time).year == year\n",
    "            ].retrieval_date_time\n",
    "        ]))\n",
    "        xy = np.append(xy, np.array(\n",
    "            [[k + i * 12, v] for k, v in rates.items()]\n",
    "        ), axis=0)\n",
    "        \n",
    "        O_.loc[\n",
    "            pd.DatetimeIndex(O_.retrieval_date_time).year == year, 't'\n",
    "        ] = (pd.DatetimeIndex(O_.loc[\n",
    "            pd.DatetimeIndex(O_.retrieval_date_time).year == year, 'retrieval_date_time'\n",
    "        ]).month + (i  *12)) * 30 - 29\n",
    "    \n",
    "\n",
    "    xy = xy[np.argsort(xy[:, 0])]\n",
    "    xy[:, 0] *= 30\n",
    "    xy[:, 0] -= 29\n",
    "    \n",
    "    data[c] = xy\n",
    "    \n",
    "    \n",
    "    "
   ]
  },
  {
   "cell_type": "code",
   "execution_count": 18,
   "metadata": {},
   "outputs": [
    {
     "data": {
      "text/plain": [
       "<matplotlib.legend.Legend at 0x12e4a3be0>"
      ]
     },
     "execution_count": 18,
     "metadata": {},
     "output_type": "execute_result"
    },
    {
     "data": {
      "image/png": "[encoded data removed]",
      "text/plain": [
       "<Figure size 432x288 with 1 Axes>"
      ]
     },
     "metadata": {
      "needs_background": "light"
     },
     "output_type": "display_data"
    }
   ],
   "source": [
    "system = dict()\n",
    "\n",
    "class function:\n",
    "    def __init__(self, model):\n",
    "        self.model = model\n",
    "    \n",
    "    def fit(self, x, y):\n",
    "        self.model.fit(x, y)\n",
    "    \n",
    "    def __call__(self, x):\n",
    "        x = np.array(x).reshape(-1, 1)\n",
    "        return max(self.model.predict(x).item(), 0)\n",
    "\n",
    "\n",
    "for c, d in data.items():\n",
    "    func = function(Pipeline([\n",
    "        ('poly', PolynomialFeatures(degree=6)),\n",
    "        ('linear', LinearRegression(fit_intercept=True))]))\n",
    "    \n",
    "    func.fit(d[:,0].reshape(-1, 1), d[:,1])\n",
    "    \n",
    "    system[c] = infer.PoissonProcess(update_lam=func)\n",
    "\n",
    "\n",
    "    plt.plot(\n",
    "        range(1, 900), \n",
    "        [system[c].update_lam(i) for i in range(1, 900)],\n",
    "        label=c\n",
    "    )\n",
    "plt.legend()"
   ]
  },
  {
   "cell_type": "code",
   "execution_count": 12,
   "metadata": {},
   "outputs": [],
   "source": [
    "xy = np.empty((0, 2))\n",
    "for i, year in enumerate(years):\n",
    "    rates = dict(Counter([\n",
    "                date.month for date in O_[\n",
    "                    pd.DatetimeIndex(\n",
    "                        O_.retrieval_date_time).year == year\n",
    "                ].retrieval_date_time\n",
    "            ]))\n",
    "    xy = np.append(xy, np.array([[k + i * 12, v] for k, v in rates.items()]), axis=0)\n",
    "    xy = xy[np.argsort(xy[:, 0])]\n",
    "    xy[:, 0] *= 30\n",
    "    xy[:, 0] -= 29\n",
    "\n",
    "\n",
    "\n",
    "m = LinearRegression()\n",
    "m = m.fit(xy[:-2, 0].reshape(-1, 1), xy[:-2, 1])\n",
    "\n",
    "alpha = lambda x: max(m.predict(np.array(x).reshape(-1, 1)).item(), 0)\n",
    "\n",
    "poisson_system = infer.PoissonSystem(\n",
    "    density=kde, \n",
    "    system=system, \n",
    "    alpha=alpha, \n",
    "    normalize=True)"
   ]
  },
  {
   "cell_type": "code",
   "execution_count": 13,
   "metadata": {},
   "outputs": [],
   "source": [
    "T = range(1, len(years)*30*12 - 1)\n",
    "\n",
    "stream = pd.DataFrame(columns=[*O.columns.values, 't'])\n",
    "\n",
    "for t in T:\n",
    "    O_sample = poisson_system(t)\n",
    "    #O_sample.loc[:, dm.real_cols[O_indices_in_real_cols]] = O_sample.loc[:, dm.real_cols[O_indices_in_real_cols]] * scale_real_cols_O + mean_real_cols_O\n",
    "    O_sample.loc[:, 't'] = np.repeat([t], len(O_sample))\n",
    "    stream = stream.append(O_sample)\n",
    "\n",
    "    \n"
   ]
  },
  {
   "cell_type": "code",
   "execution_count": 52,
   "metadata": {},
   "outputs": [
    {
     "data": {
      "text/plain": [
       "<matplotlib.legend.Legend at 0x13351fd60>"
      ]
     },
     "execution_count": 52,
     "metadata": {},
     "output_type": "execute_result"
    },
    {
     "data": {
      "image/png": "[encoded data removed]",
      "text/plain": [
       "<Figure size 432x288 with 1 Axes>"
      ]
     },
     "metadata": {
      "needs_background": "light"
     },
     "output_type": "display_data"
    }
   ],
   "source": [
    "COLS = ['DAGE']\n",
    "stream.loc[:, 'condition'] = stream.apply(condition, axis=1)\n",
    "\n",
    "stream.loc[:, 't_'] = (stream.t - stream.t % 30) + 1\n",
    "averages = stream.groupby('t_').agg('mean')\n",
    "\n",
    "plt.plot(\n",
    "    averages.index.to_numpy(), \n",
    "    #gaussian_filter1d(averages[COLS].to_numpy(), sigma=1, axis=0), \n",
    "    averages[COLS].to_numpy(),\n",
    "    label=COLS\n",
    ")\n",
    "\n",
    "average_real = O_.groupby('t').agg('mean')\n",
    "\n",
    "plt.plot(\n",
    "    average_real.index.to_numpy(), \n",
    "    gaussian_filter1d(average_real[COLS].to_numpy(), sigma=1, axis=0), \n",
    "    #average_real[COL].to_numpy(),\n",
    "    label=['DAGE - real']\n",
    ")\n",
    "\n",
    "\n",
    "plt.legend()"
   ]
  },
  {
   "cell_type": "code",
   "execution_count": 54,
   "metadata": {
    "scrolled": false
   },
   "outputs": [
    {
     "name": "stdout",
     "output_type": "stream",
     "text": [
      "SIMULATED DAGE\n",
      "\n",
      "(1, 45.87973390370115) (31, 46.59895105793141) (61, 46.87371634604728) (91, 47.928038240537816) (121, 49.060858766451716) (151, 48.98849364093357) (181, 48.99185237541862) (211, 50.04870985184612) (241, 50.16583769370922) (271, 50.40842215590187) (301, 50.59459783931362) (331, 49.91996885946573) (361, 50.921951558195126) (391, 50.06870560477509) (421, 50.64436033084511) (451, 50.6916928697851) (481, 51.02262177446534) (511, 50.36033771972824) (541, 50.680979755706836) (571, 50.44457514333977) (601, 50.411126843257954) (631, 50.824496297466794) (661, 51.0182938817956) (691, 51.03674280251759) (721, 51.47600758618977) (751, 51.385680714536456) (781, 51.163900812106334) (811, 50.79946467918573) (841, 51.756999505094505) (871, 50.67385925385489) (901, 51.76003553334313) (931, 51.54349899508464) (961, 52.021904402757656) (991, 57.2303720853207) (1021, 66.6568540037986)\n",
      "\n",
      "\n",
      "\n",
      "REAL DAGE\n",
      "\n",
      "(1, 45.643377469926776) (31, 47.24947525106842) (61, 49.74737726701475) (91, 49.24854076712739) (121, 50.352171353415144) (151, 48.39137788611764) (181, 49.278917260679606) (211, 49.288848988416184) (241, 53.57740587441618) (271, 50.99275113249137) (301, 53.3611754535716) (331, 53.084087703404656) (361, 52.875841507422116) (391, 49.500799760501124) (421, 50.43156090649017) (451, 52.68893979499898) (481, 52.1332121033106) (511, 50.02175782652375) (541, 51.23883332156599) (571, 49.918311959627644) (601, 51.08059371769635) (631, 53.61803974411704) (661, 53.55802772305482) (691, 50.359902595874374) (721, 53.004303432934876) (751, 52.263700049136155) (781, 49.36639467219846) (811, 52.8751407180588) (841, 50.333757173683516) (871, 52.658808861748106) (901, 54.7277664321707) (931, 53.09204832365319) (961, 53.1281431814507) (991, 54.1937639163486) (1021, 62.82328595117328)\n"
     ]
    }
   ],
   "source": [
    "COL='DAGE'\n",
    "\n",
    "print(f'SIMULATED {COL}\\n')\n",
    "print(\n",
    "    *list(zip(\n",
    "        averages.index.to_numpy(), \n",
    "        averages[COL].to_numpy().flatten())),\n",
    "    sep=' '\n",
    ")\n",
    "print('\\n\\n')\n",
    "\n",
    "print(f'REAL {COL}\\n')\n",
    "print(\n",
    "    *list(zip(\n",
    "        averages.index.to_numpy(), \n",
    "        gaussian_filter1d(average_real[COL].to_numpy()[1:], sigma=2, axis=0))),\n",
    "    sep=' '\n",
    ")"
   ]
  },
  {
   "cell_type": "code",
   "execution_count": 43,
   "metadata": {},
   "outputs": [
    {
     "data": {
      "text/plain": [
       "36"
      ]
     },
     "execution_count": 43,
     "metadata": {},
     "output_type": "execute_result"
    }
   ],
   "source": [
    "len(gaussian_filter1d(average_real[COL].to_numpy(), sigma=.5, axis=0))"
   ]
  },
  {
   "cell_type": "code",
   "execution_count": 45,
   "metadata": {},
   "outputs": [
    {
     "data": {
      "text/plain": [
       "35"
      ]
     },
     "execution_count": 45,
     "metadata": {},
     "output_type": "execute_result"
    }
   ],
   "source": [
    "len(averages.index.to_numpy())"
   ]
  },
  {
   "cell_type": "code",
   "execution_count": null,
   "metadata": {},
   "outputs": [],
   "source": []
  }
 ],
 "metadata": {
  "kernelspec": {
   "display_name": "allsim",
   "language": "python",
   "name": "allsim"
  },
  "language_info": {
   "codemirror_mode": {
    "name": "ipython",
    "version": 3
   },
   "file_extension": ".py",
   "mimetype": "text/x-python",
   "name": "python",
   "nbconvert_exporter": "python",
   "pygments_lexer": "ipython3",
   "version": "3.8.6"
  }
 },
 "nbformat": 4,
 "nbformat_minor": 4
}
