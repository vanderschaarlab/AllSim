{
 "cells": [
  {
   "cell_type": "code",
   "execution_count": 1,
   "metadata": {},
   "outputs": [],
   "source": [
    "%reload_ext autoreload\n",
    "%autoreload 2\n",
    "\n",
    "\n",
    "import sys, os\n",
    "module_path = os.path.abspath(os.path.join('..'))\n",
    "if module_path not in sys.path:\n",
    "    sys.path.append(module_path)\n",
    "    \n",
    "import numpy as np\n",
    "import pandas as pd\n",
    "\n",
    "import torch\n",
    "import pytorch_lightning as pl\n",
    "import wandb\n",
    "\n",
    "import matplotlib.pyplot as plt\n",
    "\n",
    "import scipy as sp\n",
    "from scipy.ndimage.filters import gaussian_filter1d\n",
    "\n",
    "from collections import Counter\n",
    "\n",
    "\n",
    "\n",
    "    \n",
    "import allsim.src.infer as infer\n",
    "import allsim.src.sim as sim\n",
    "from allsim.src.policies.policy import MELD, MELD_na, FIFO\n",
    "from allsim.src.outcome.counterfactual_inference import Inference_OrganITE\n",
    "from allsim.src.outcome.counterfactual_models import OrganITE_Network\n",
    "\n",
    "from data.data_module import UNOSDataModule, UKRegDataModule"
   ]
  },
  {
   "cell_type": "code",
   "execution_count": 2,
   "metadata": {},
   "outputs": [
    {
     "name": "stderr",
     "output_type": "stream",
     "text": [
      "/Users/jeroenberrevoets/.virtualenvs/scrapsim/lib/python3.8/site-packages/pytorch_lightning/core/datamodule.py:175: LightningDeprecationWarning: DataModule property `dims` was deprecated in v1.5 and will be removed in v1.7.\n",
      "  rank_zero_deprecation(\"DataModule property `dims` was deprecated in v1.5 and will be removed in v1.7.\")\n",
      "/Users/jeroenberrevoets/.virtualenvs/scrapsim/lib/python3.8/site-packages/sklearn/base.py:329: UserWarning: Trying to unpickle estimator StandardScaler from version 0.23.2 when using version 1.0.2. This might lead to breaking code or invalid results. Use at your own risk. For more info please refer to:\n",
      "https://scikit-learn.org/stable/modules/model_persistence.html#security-maintainability-limitations\n",
      "  warnings.warn(\n"
     ]
    }
   ],
   "source": [
    "data = 'UNOS'\n",
    "data_dir = f'../data/{data}'\n",
    "\n",
    "if data == 'UNOS':\n",
    "    dm = UNOSDataModule(data_dir, batch_size=256)\n",
    "    groups_r = [['DGRP_-1', 'DGRP_0', 'DGRP_1']]\n",
    "    groups_x = [\n",
    "        ['PATIENT_LOCATION_-1', 'PATIENT_LOCATION_0', 'PATIENT_LOCATION_1', 'PATIENT_LOCATION_2'],\n",
    "        ['RAB_SURGERY_-1', 'RAB_SURGERY_0', 'RAB_SURGERY_1', 'RAB_SURGERY_2'],\n",
    "        ['RASCITES_-1', 'RASCITES_0', 'RASCITES_1', 'RASCITES_2', 'RASCITES_3'],\n",
    "        ['RENAL_SUPPORT_0', 'RENAL_SUPPORT_1', 'RENAL_SUPPORT_2'],\n",
    "        ['RENCEPH_0', 'RENCEPH_1', 'RENCEPH_2', 'RENCEPH_3'],\n",
    "        ['RHCV_-1', 'RHCV_0', 'RHCV_1', 'RHCV_2', 'RHCV_3'],\n",
    "        ['RREN_SUP_-1', 'RREN_SUP_0', 'RREN_SUP_1'],\n",
    "        ['SEX_0', 'SEX_1']\n",
    "    ]\n",
    "else:\n",
    "    dm = UKRegDataModule(data_dir, batch_size=256)\n",
    "    groups_r = [['DCOD_0', 'DCOD_10', 'DCOD_11', 'DCOD_12',\n",
    "       'DCOD_13', 'DCOD_19', 'DCOD_20', 'DCOD_21', 'DCOD_22', 'DCOD_23',\n",
    "       'DCOD_24', 'DCOD_29', 'DCOD_30', 'DCOD_31', 'DCOD_39', 'DCOD_40',\n",
    "       'DCOD_41', 'DCOD_42', 'DCOD_43', 'DCOD_44', 'DCOD_45', 'DCOD_49',\n",
    "       'DCOD_50', 'DCOD_51', 'DCOD_52', 'DCOD_53', 'DCOD_54', 'DCOD_59',\n",
    "       'DCOD_60', 'DCOD_70', 'DCOD_71', 'DCOD_72', 'DCOD_81', 'DCOD_82',\n",
    "       'DCOD_85', 'DCOD_88', 'DCOD_90', 'DCOD_98', 'DCOD_99']]\n",
    "    \n",
    "\n",
    "dm.prepare_data()\n",
    "dm.setup(stage='fit')\n",
    "\n",
    "DATA = pd.concat([dm._test_processed.copy(deep=True), dm._train_processed.copy(deep=True)])\n",
    "DATA_true = DATA.copy(deep=True)\n",
    "DATA_true[dm.real_cols] = dm.scaler.inverse_transform(\n",
    "    DATA_true[dm.real_cols])\n",
    "\n",
    "patients = DATA_true[dm.x_cols].copy(deep=True)\n",
    "organs = DATA_true[dm.o_cols].copy(deep=True)\n",
    "\n",
    "X = patients\n",
    "O = organs\n",
    "Y = dm._train_processed.Y\n",
    "\n",
    "\n",
    "O_indices_in_real_cols = np.where(np.in1d(np.unique(dm.real_cols), O.columns.values))[0]\n",
    "mean_real_cols_O = dm.scaler.mean_[O_indices_in_real_cols]\n",
    "scale_real_cols_O = dm.scaler.scale_[O_indices_in_real_cols]\n",
    "real_cols_indices_in_O = np.where(np.in1d(O.columns.values, np.unique(dm.real_cols)))[0]\n",
    "\n",
    "\n",
    "X_indices_in_real_cols = np.where(np.in1d(np.unique(dm.real_cols), X.columns.values))[0]\n",
    "mean_real_cols_X = dm.scaler.mean_[X_indices_in_real_cols]\n",
    "scale_real_cols_X = dm.scaler.scale_[X_indices_in_real_cols]\n",
    "real_cols_indices_in_X = np.where(np.in1d(X.columns.values, np.unique(dm.real_cols)))[0]\n",
    "\n"
   ]
  },
  {
   "cell_type": "code",
   "execution_count": 3,
   "metadata": {},
   "outputs": [
    {
     "name": "stderr",
     "output_type": "stream",
     "text": [
      "/Users/jeroenberrevoets/.virtualenvs/scrapsim/lib/python3.8/site-packages/pytorch_lightning/core/datamodule.py:184: LightningDeprecationWarning: DataModule property `size` was deprecated in v1.5 and will be removed in v1.7.\n",
      "  rank_zero_deprecation(\"DataModule property `size` was deprecated in v1.5 and will be removed in v1.7.\")\n",
      "/Users/jeroenberrevoets/.virtualenvs/scrapsim/lib/python3.8/site-packages/pytorch_lightning/core/datamodule.py:170: LightningDeprecationWarning: DataModule property `dims` was deprecated in v1.5 and will be removed in v1.7.\n",
      "  rank_zero_deprecation(\"DataModule property `dims` was deprecated in v1.5 and will be removed in v1.7.\")\n",
      "GPU available: False, used: False\n",
      "TPU available: False, using: 0 TPU cores\n",
      "IPU available: False, using: 0 IPUs\n",
      "/Users/jeroenberrevoets/.virtualenvs/scrapsim/lib/python3.8/site-packages/pytorch_lightning/core/datamodule.py:469: LightningDeprecationWarning: DataModule.setup has already been called, so it will not be called again. In v1.6 this behavior will change to always call DataModule.setup.\n",
      "  rank_zero_deprecation(\n",
      "\n",
      "  | Name           | Type             | Params\n",
      "----------------------------------------------------\n",
      "0 | representation | Sequential       | 2.0 K \n",
      "1 | propensity     | Sequential       | 147   \n",
      "2 | output         | Sequential       | 49    \n",
      "3 | loss_mse       | MeanSquaredError | 0     \n",
      "4 | loss_cel       | CrossEntropyLoss | 0     \n",
      "----------------------------------------------------\n",
      "2.2 K     Trainable params\n",
      "0         Non-trainable params\n",
      "2.2 K     Total params\n",
      "0.009     Total estimated model params size (MB)\n"
     ]
    },
    {
     "data": {
      "application/vnd.jupyter.widget-view+json": {
       "model_id": "",
       "version_major": 2,
       "version_minor": 0
      },
      "text/plain": [
       "Validation sanity check: 0it [00:00, ?it/s]"
      ]
     },
     "metadata": {},
     "output_type": "display_data"
    },
    {
     "data": {
      "application/vnd.jupyter.widget-view+json": {
       "model_id": "d1578159405b4bc6bffc737da5cd56e5",
       "version_major": 2,
       "version_minor": 0
      },
      "text/plain": [
       "Training: 0it [00:00, ?it/s]"
      ]
     },
     "metadata": {},
     "output_type": "display_data"
    },
    {
     "data": {
      "application/vnd.jupyter.widget-view+json": {
       "model_id": "",
       "version_major": 2,
       "version_minor": 0
      },
      "text/plain": [
       "Validating: 0it [00:00, ?it/s]"
      ]
     },
     "metadata": {},
     "output_type": "display_data"
    },
    {
     "data": {
      "application/vnd.jupyter.widget-view+json": {
       "model_id": "",
       "version_major": 2,
       "version_minor": 0
      },
      "text/plain": [
       "Validating: 0it [00:00, ?it/s]"
      ]
     },
     "metadata": {},
     "output_type": "display_data"
    },
    {
     "data": {
      "application/vnd.jupyter.widget-view+json": {
       "model_id": "",
       "version_major": 2,
       "version_minor": 0
      },
      "text/plain": [
       "Validating: 0it [00:00, ?it/s]"
      ]
     },
     "metadata": {},
     "output_type": "display_data"
    },
    {
     "data": {
      "application/vnd.jupyter.widget-view+json": {
       "model_id": "",
       "version_major": 2,
       "version_minor": 0
      },
      "text/plain": [
       "Validating: 0it [00:00, ?it/s]"
      ]
     },
     "metadata": {},
     "output_type": "display_data"
    },
    {
     "data": {
      "application/vnd.jupyter.widget-view+json": {
       "model_id": "",
       "version_major": 2,
       "version_minor": 0
      },
      "text/plain": [
       "Validating: 0it [00:00, ?it/s]"
      ]
     },
     "metadata": {},
     "output_type": "display_data"
    },
    {
     "data": {
      "application/vnd.jupyter.widget-view+json": {
       "model_id": "",
       "version_major": 2,
       "version_minor": 0
      },
      "text/plain": [
       "Validating: 0it [00:00, ?it/s]"
      ]
     },
     "metadata": {},
     "output_type": "display_data"
    },
    {
     "data": {
      "application/vnd.jupyter.widget-view+json": {
       "model_id": "",
       "version_major": 2,
       "version_minor": 0
      },
      "text/plain": [
       "Validating: 0it [00:00, ?it/s]"
      ]
     },
     "metadata": {},
     "output_type": "display_data"
    },
    {
     "data": {
      "application/vnd.jupyter.widget-view+json": {
       "model_id": "",
       "version_major": 2,
       "version_minor": 0
      },
      "text/plain": [
       "Validating: 0it [00:00, ?it/s]"
      ]
     },
     "metadata": {},
     "output_type": "display_data"
    },
    {
     "data": {
      "application/vnd.jupyter.widget-view+json": {
       "model_id": "",
       "version_major": 2,
       "version_minor": 0
      },
      "text/plain": [
       "Validating: 0it [00:00, ?it/s]"
      ]
     },
     "metadata": {},
     "output_type": "display_data"
    },
    {
     "data": {
      "application/vnd.jupyter.widget-view+json": {
       "model_id": "",
       "version_major": 2,
       "version_minor": 0
      },
      "text/plain": [
       "Validating: 0it [00:00, ?it/s]"
      ]
     },
     "metadata": {},
     "output_type": "display_data"
    }
   ],
   "source": [
    "# OrganITE\n",
    "input_dim = dm.size(1)\n",
    "hidden_dim=16\n",
    "num_hidden_layers=4\n",
    "output_dim=6\n",
    "lr=0.007\n",
    "gamma=0.79\n",
    "lambd=0.15\n",
    "kappa=0.15\n",
    "weight_decay=0.0006\n",
    "n_clusters=15\n",
    "activation_type=\"leaky_relu\"\n",
    "dropout_prob=0.11\n",
    "epochs = 10\n",
    "\n",
    "organite_model = OrganITE_Network(\n",
    "             input_dim=input_dim,\n",
    "             hidden_dim=hidden_dim,\n",
    "             num_hidden_layers=num_hidden_layers,\n",
    "             output_dim=output_dim,\n",
    "             lr=lr,\n",
    "             gamma=gamma,\n",
    "             lambd=lambd,\n",
    "             kappa=kappa,\n",
    "             weight_decay=weight_decay,\n",
    "             n_clusters=n_clusters,\n",
    "             activation_type=activation_type,\n",
    "             dropout_prob=dropout_prob,\n",
    ").double()\n",
    "\n",
    "organite_trainer = pl.Trainer(callbacks=[], max_epochs=epochs)\n",
    "organite_trainer.fit(organite_model, datamodule=dm)\n",
    "\n",
    "inference_oite = Inference_OrganITE(\n",
    "    model=organite_model, mean=dm.mean, std=dm.std,\n",
    "    x_indices_real=real_cols_indices_in_X, r_indices_real=real_cols_indices_in_O,\n",
    "    x_mean=mean_real_cols_X, x_scale=scale_real_cols_X,\n",
    "    r_mean=mean_real_cols_O, r_scale=scale_real_cols_O\n",
    ")\n",
    "\n",
    "## Train VAE\n",
    "#input_dim = len(dm.o_cols)\n",
    "#organite_vae_model_model = OrganITE_Network_VAE(\n",
    "#         input_dim=input_dim,\n",
    "#         hidden_dim=hidden_dim,\n",
    "#         output_dim=output_dim,\n",
    "#         lr=lr,\n",
    "#         gamma=gamma,\n",
    "#         weight_decay=weight_decay,\n",
    "#).double()\n",
    "\n",
    "#organite_vae_trainer = pl.Trainer(callbacks=[], max_epochs=epochs)\n",
    "#organite_vae_trainer.fit(organite_vae_model_model, datamodule=dm)\n",
    "\n",
    "#inference_oite_vae = Inference_OrganITE_VAE(model=organite_vae_model_model, mean=dm.mean, std=dm.std)"
   ]
  },
  {
   "cell_type": "code",
   "execution_count": 6,
   "metadata": {},
   "outputs": [
    {
     "name": "stdout",
     "output_type": "stream",
     "text": [
      "[[50460.61245023]]\n",
      "[[50664.11220274]]\n",
      "[[50968.34322805]]\n",
      "[[50634.94368233]]\n",
      "[[50552.59033204]]\n",
      "[[50723.49462203]]\n",
      "[[50902.15086354]]\n",
      "[[50728.58629716]]\n",
      "[[50799.61542397]]\n",
      "[[50794.99464584]]\n"
     ]
    }
   ],
   "source": [
    "for i in range(10):\n",
    "    print(inference_oite.infer(\n",
    "        np.random.rand(46).reshape(1, -1)\n",
    "    ))"
   ]
  },
  {
   "cell_type": "code",
   "execution_count": 7,
   "metadata": {},
   "outputs": [],
   "source": [
    "# RESOURCES\n",
    "bins_r = [30, 45, 60]\n",
    "def condition_function_r(age):\n",
    "    i = np.where(np.in1d(dm.real_cols, 'DAGE'))[0]\n",
    "    age=age\n",
    "    return np.digitize(age, bins=bins_r).item()\n",
    "\n",
    "\n",
    "condition_r = infer.Condition(\n",
    "    labels=['DAGE'],\n",
    "    function=condition_function_r,\n",
    "    options=len(bins_r) + 1\n",
    ")\n",
    "\n",
    "kde_o = infer.KDEDensity(condition=condition_r, K=condition_r.options)\n",
    "kde_o.fit(O[:15000], one_hot_encoded=groups_r)"
   ]
  },
  {
   "cell_type": "code",
   "execution_count": 8,
   "metadata": {},
   "outputs": [],
   "source": [
    "# PATIENTS\n",
    "#bins_x = [\n",
    "#    X.SERUM_BILIRUBIN.mean() - X.SERUM_BILIRUBIN.std(),\n",
    "#    X.SERUM_BILIRUBIN.mean(),\n",
    "#    X.SERUM_BILIRUBIN.mean() + X.SERUM_BILIRUBIN.std()\n",
    "#]\n",
    "\n",
    "bins_x = [30, 45, 60]\n",
    "\n",
    "def condition_function_x(bilir):\n",
    "    return np.digitize(bilir, bins=bins_x).item()\n",
    "    \n",
    "condition_x = infer.Condition(\n",
    "    labels=['RAGE'],\n",
    "    function=condition_function_x,\n",
    "    options=len(bins_x) + 1\n",
    ")\n",
    "\n",
    "kde_x = infer.KDEDensity(condition=condition_x, K=condition_x.options)\n",
    "kde_x.fit(X[:15000], one_hot_encoded=groups_x)"
   ]
  },
  {
   "cell_type": "code",
   "execution_count": 9,
   "metadata": {},
   "outputs": [],
   "source": [
    "resource_system, patient_system = dict(), dict()\n",
    "\n",
    "\n",
    "def update_lam_0(t):\n",
    "    return (1 / (1+np.exp(-(t-450)/150))) * 3\n",
    "\n",
    "def update_lam_1(t):\n",
    "    return (1 / (1+np.exp((t-350)/150))) * 2\n",
    "\n",
    "def update_lam_2(t):\n",
    "    a = (1 / (1+np.exp((t-150)/150))) * 2\n",
    "    b = (1 / (1+np.exp(-(t-650)/100))) * 2\n",
    "    return (a + b)\n",
    "\n",
    "def update_lam_3(t):\n",
    "    a = (1 / (1+np.exp(-(t-150)/150)))\n",
    "    b = (1 / (1+np.exp((t-650)/100)))\n",
    "    return (a + b)\n",
    "\n",
    "\n",
    "resource_system[0] = infer.PoissonProcess(update_lam=update_lam_0)\n",
    "resource_system[1] = infer.PoissonProcess(update_lam=update_lam_1)\n",
    "resource_system[2] = infer.PoissonProcess(update_lam=update_lam_2)\n",
    "resource_system[3] = infer.PoissonProcess(update_lam=update_lam_3)\n",
    "\n",
    "\n",
    "patient_system[3] = infer.PoissonProcess(update_lam=update_lam_0)\n",
    "patient_system[2] = infer.PoissonProcess(update_lam=update_lam_1)\n",
    "patient_system[1] = infer.PoissonProcess(update_lam=update_lam_2)\n",
    "patient_system[0] = infer.PoissonProcess(update_lam=update_lam_3)\n"
   ]
  },
  {
   "cell_type": "code",
   "execution_count": 10,
   "metadata": {},
   "outputs": [],
   "source": [
    "resource_process = infer.PoissonSystem(\n",
    "    density=kde_o, \n",
    "    system=resource_system, \n",
    "    alpha=lambda t: 5, \n",
    "    normalize=True)\n",
    "\n",
    "patient_process = infer.PoissonSystem(\n",
    "    density=kde_x, \n",
    "    system=patient_system, \n",
    "    alpha=lambda t: 7, \n",
    "    normalize=True)"
   ]
  },
  {
   "cell_type": "code",
   "execution_count": 11,
   "metadata": {
    "scrolled": false
   },
   "outputs": [],
   "source": [
    "import copy\n",
    "\n",
    "inference_oite.model.eval()\n",
    "\n",
    "simulation = sim.Sim(\n",
    "    resource_system=resource_process,\n",
    "    patient_system=patient_process,\n",
    "    inference=inference_oite\n",
    ")\n",
    "\n",
    "sim_meld = copy.deepcopy(simulation)\n",
    "sim_meld_na = copy.deepcopy(simulation)\n",
    "sim_fifo = copy.deepcopy(simulation)\n",
    "\n",
    "\n",
    "meld = MELD(name='MELD', initial_waitlist=sim_meld._internal_waitlist, dm=dm)\n",
    "meld_na = MELD_na(name='MELD-Na', initial_waitlist=sim_meld_na._internal_waitlist, dm=dm)\n",
    "fifo = FIFO(name='FIFO', initial_waitlist=sim_fifo._internal_waitlist, dm=dm)"
   ]
  },
  {
   "cell_type": "code",
   "execution_count": 12,
   "metadata": {
    "scrolled": true
   },
   "outputs": [
    {
     "name": "stderr",
     "output_type": "stream",
     "text": [
      "100%|███████████████████████████████████████████████████████████████████████████████████████████████████████████████| 1020/1020 [00:25<00:00, 40.40it/s]\n",
      "100%|███████████████████████████████████████████████████████████████████████████████████████████████████████████████| 1020/1020 [00:25<00:00, 39.24it/s]\n",
      "100%|███████████████████████████████████████████████████████████████████████████████████████████████████████████████| 1020/1020 [00:23<00:00, 43.76it/s]\n"
     ]
    }
   ],
   "source": [
    "df_meld = sim_meld.simulate(meld, T=1021)\n",
    "df_meld_na = sim_meld_na.simulate(meld_na, T=1021)\n",
    "df_fifo = sim_fifo.simulate(fifo, T=1021)"
   ]
  },
  {
   "cell_type": "code",
   "execution_count": 14,
   "metadata": {},
   "outputs": [
    {
     "name": "stdout",
     "output_type": "stream",
     "text": [
      "MELD avg days alive (303.0, 1235.5979633862416) (313.0, 1227.577261122243) (324.0, 1232.826652958918) (334.0, 1228.2522377917574) (344.0, 1216.471581371641) (354.0, 1213.9879218786962) (364.0, 1204.7916766313406) (374.0, 1193.083512745946) (384.0, 1186.0430196357424) (394.0, 1182.5569396537276) (404.0, 1174.1595658460992) (414.0, 1175.6671713055118) (424.0, 1177.776979798644) (434.0, 1179.4336698137279) (444.0, 1189.3526454326868) (455.0, 1210.108988796926) (465.0, 1208.1822448259559) (475.0, 1197.5572414150706) (485.0, 1192.5452418085385) (495.0, 1193.3371546576873) (505.0, 1188.1009692203459) (515.0, 1201.1091675711882) (525.0, 1205.704038222379) (535.0, 1214.5125510577675) (545.0, 1219.7295576725824) (555.0, 1218.173433325921) (565.0, 1222.9396559172458) (575.0, 1225.317060460282) (585.0, 1225.1306526884036) (595.0, 1226.450386662712) (605.0, 1231.3248979307266) (615.0, 1244.8746522202969) (625.0, 1238.035468912595) (635.0, 1227.4917003354144) (645.0, 1220.615130989517) (655.0, 1213.256547040072) (665.0, 1219.7585795209277) (675.0, 1216.7932375973978) (685.0, 1217.9038725850194) (695.0, 1221.0298227308601) (705.0, 1225.404953814877) (715.0, 1217.1443882873957) (725.0, 1203.994042997147) (735.0, 1198.7350055632392) (745.0, 1192.3465707543821) (755.0, 1173.1865539517264) (765.0, 1165.7115110299615) (775.0, 1170.5806233007897) (785.0, 1168.9189384385534) (795.0, 1171.7725525829685) (805.0, 1178.9157505097266) (815.0, 1180.1699556017745) (825.0, 1182.6009040436957) (835.0, 1174.646130043375) (845.0, 1161.856152771941) (855.0, 1150.1175711318076) (865.0, 1139.042496809027) (875.0, 1122.551572380623) (885.0, 1113.1240023343964) (895.0, 1125.658596737696) (905.0, 1138.8178167258784) (915.0, 1131.4093153898848) (925.0, 1124.941307198794) (935.0, 1127.9477774090067) (945.0, 1114.2579321892358) (955.0, 1111.4951569395391) (965.0, 1109.4178493269612) (975.0, 1118.3574817533392) (985.0, 1118.774284009234) (995.0, 1102.7622080218098) (1005.0, 1092.97789538819) (1015.0, 1086.3349537286128)\n",
      "MELD-Na avg days alive (305.0, 1237.0241022977148) (315.0, 1234.4251939183973) (325.0, 1235.6056946489634) (335.0, 1239.6395276198566) (345.0, 1243.706266894199) (355.0, 1234.914056549847) (365.0, 1230.9952088380405) (375.0, 1242.3879361315715) (385.0, 1239.5717312329891) (395.0, 1237.0097998897916) (405.0, 1228.9721084899004) (415.0, 1225.4559402228892) (425.0, 1215.7123242530897) (435.0, 1209.1716914983942) (445.0, 1201.248295553684) (455.0, 1196.9502110644694) (465.0, 1191.5613621794603) (475.0, 1190.3835103317215) (485.0, 1179.9877814603271) (495.0, 1173.8377184742758) (505.0, 1180.1778308025068) (515.0, 1177.9551702975805) (525.0, 1176.0142366744528) (535.0, 1190.4742157957376) (545.0, 1190.9811912641674) (555.0, 1185.6206226007796) (565.0, 1181.4560519073482) (575.0, 1174.836392564148) (585.0, 1155.6591680437366) (595.0, 1140.743827219113) (605.0, 1131.793501860034) (615.0, 1127.7562605551466) (625.0, 1123.5294662620197) (635.0, 1119.0279847944105) (645.0, 1112.1652209878116) (656.0, 1119.7387023760725) (666.0, 1107.6377546337758) (676.0, 1096.6151623597973) (686.0, 1090.1442520563942) (696.0, 1104.7168227431941) (706.0, 1114.6803107251387) (716.0, 1121.5558051102344) (726.0, 1126.2013266446527) (736.0, 1120.5267763309487) (746.0, 1124.8459746397864) (756.0, 1123.9574579770517) (766.0, 1122.5266037054737) (776.0, 1122.4380452938099) (786.0, 1120.4709026735554) (796.0, 1117.7888722177076) (806.0, 1113.7779979447187) (816.0, 1101.120084604703) (826.0, 1097.6074672078412) (836.0, 1089.1670845968308) (846.0, 1087.938495870593) (856.0, 1092.7153114569926) (867.0, 1107.8276841505008) (877.0, 1119.175326328488) (887.0, 1129.1494157404106) (897.0, 1133.6148400966808) (907.0, 1139.7786775386373) (917.0, 1138.570747204606) (927.0, 1129.0639648722608) (937.0, 1121.943719904525) (947.0, 1121.4037312381797) (957.0, 1119.085226140167) (967.0, 1124.7413025923333) (977.0, 1123.7635008538416) (987.0, 1132.6878084605164) (997.0, 1133.2369212285962) (1007.0, 1126.5004066448455) (1017.0, 1114.6403344431358)\n",
      "FIFO avg days alive (301.0, 1125.2346282839455) (311.0, 1100.3121525722638) (321.0, 1072.6075235945527) (331.0, 1059.3456976977388) (341.0, 1043.7567166591537) (351.0, 1022.154501817171) (361.0, 1004.4070716979174) (371.0, 986.476629814535) (381.0, 979.9098732540994) (391.0, 978.4014690920053) (401.0, 969.3538232096432) (411.0, 961.0675358888227) (421.0, 961.578846739054) (431.0, 964.0851136198916) (441.0, 957.4687706428439) (451.0, 960.2294116273941) (461.0, 958.4434076383626) (471.0, 953.5056762770536) (481.0, 938.843049745697) (491.0, 936.4856446655978) (501.0, 924.1259437684606) (511.0, 915.9581597712427) (521.0, 901.5457450001262) (531.0, 890.4230037838548) (541.0, 869.7613775393255) (551.0, 859.2420338749672) (561.0, 839.5388033737571) (571.0, 820.9701370523206) (581.0, 805.9164651417094) (591.0, 804.9171160679138) (601.0, 801.0794201442444) (611.0, 803.7960948852743) (621.0, 805.6050739178746) (631.0, 802.3826929714243) (641.0, 810.1131000933358) (651.0, 819.5561910228276) (661.0, 822.768815919686) (671.0, 822.3454722237457) (681.0, 816.5426400205635) (691.0, 812.2823903497829) (701.0, 809.9595187634615) (711.0, 808.2122226622547) (721.0, 804.7988725711409) (731.0, 790.8300084780009) (741.0, 767.4904399026686) (751.0, 754.100458720503) (761.0, 737.743308045387) (771.0, 723.3789386123444) (781.0, 713.6399548619709) (791.0, 704.9826847227323) (801.0, 702.3233832928523) (811.0, 692.8849003894485) (821.0, 688.0985823345669) (831.0, 687.6496930349188) (841.0, 691.251965080489) (851.0, 696.4888719533334) (861.0, 708.3469593254513) (871.0, 721.6338710960814) (881.0, 740.7280668626464) (891.0, 750.4082127277057) (901.0, 763.1969077710244) (911.0, 770.5861098295825) (921.0, 773.0244497784034) (931.0, 777.9335798530442) (941.0, 785.3844663972911) (951.0, 779.1606767722076) (961.0, 772.4332869547765) (971.0, 768.12408715388) (981.0, 768.8897571580574) (991.0, 765.9796576066983) (1001.0, 760.8899716345412) (1011.0, 756.903609951287)\n"
     ]
    },
    {
     "data": {
      "image/png": "[encoded data removed]",
      "text/plain": [
       "<Figure size 432x288 with 1 Axes>"
      ]
     },
     "metadata": {
      "needs_background": "light"
     },
     "output_type": "display_data"
    }
   ],
   "source": [
    "plt.plot(\n",
    "    df_meld.t.unique(),\n",
    "    #gaussian_filter1d(donor_df.groupby('t').agg('mean').ttl, sigma=3, axis=0)\n",
    "    #gaussian_filter1d(df.rolling(window=300, on='t').mean().ttl.to_numpy(), sigma=3, axis=0)\n",
    "    df_meld.groupby('t').agg('mean').rolling(window=300).mean().ttl,\n",
    "    label='MELD'\n",
    ")\n",
    "\n",
    "plt.plot(\n",
    "    df_fifo.t.unique(),\n",
    "    #gaussian_filter1d(donor_df.groupby('t').agg('mean').ttl, sigma=3, axis=0)\n",
    "    #gaussian_filter1d(df.rolling(window=300, on='t').mean().ttl.to_numpy(), sigma=3, axis=0)\n",
    "    df_fifo.groupby('t').agg('mean').rolling(window=300).mean().ttl,\n",
    "    label='FIFO'\n",
    ")\n",
    "\n",
    "plt.plot(\n",
    "    df_meld_na.t.unique(),\n",
    "    #gaussian_filter1d(donor_df.groupby('t').agg('mean').ttl, sigma=3, axis=0)\n",
    "    #gaussian_filter1d(df.rolling(window=300, on='t').mean().ttl.to_numpy(), sigma=3, axis=0)\n",
    "    df_meld_na.groupby('t').agg('mean').rolling(window=300).mean().ttl,\n",
    "    label='MELD-na'\n",
    ")\n",
    "\n",
    "plt.legend()\n",
    "\n",
    "window=300\n",
    "\n",
    "print(\n",
    "    'MELD avg days alive', \n",
    "    *list(zip(\n",
    "        df_meld.t.unique()[np.arange(window, 1020, 10)], \n",
    "        df_meld.groupby('t').agg('mean').rolling(window=window).mean().ttl.to_numpy()[np.arange(window, 1020, 10)])),\n",
    "    sep=' '\n",
    ")\n",
    "\n",
    "\n",
    "print(\n",
    "    'MELD-Na avg days alive', \n",
    "    *list(zip(\n",
    "        df_meld_na.t.unique()[np.arange(window, 1020, 10)], \n",
    "        df_meld_na.groupby('t').agg('mean').rolling(window=window).mean().ttl.to_numpy()[np.arange(window, 1020, 10)])),\n",
    "    sep=' '\n",
    ")\n",
    "\n",
    "\n",
    "print(\n",
    "    'FIFO avg days alive', \n",
    "    *list(zip(\n",
    "        df_fifo.t.unique()[np.arange(window, 1020, 10)], \n",
    "        df_fifo.groupby('t').agg('mean').rolling(window=window).mean().ttl.to_numpy()[np.arange(window, 1020, 10)])),\n",
    "    sep=' '\n",
    ")\n"
   ]
  },
  {
   "cell_type": "code",
   "execution_count": null,
   "metadata": {
    "scrolled": false
   },
   "outputs": [],
   "source": [
    "window = 300\n",
    "donor_df = df_meld[df_meld.DAGE.notna()]\n",
    "\n",
    "plt.plot(\n",
    "    donor_df.t.unique()[np.arange(window, 1020, 10)],\n",
    "    donor_df.groupby('t').agg('mean').rolling(window=window).mean().DAGE.to_numpy()[np.arange(window, 1020, 10)]\n",
    ")\n",
    "\n",
    "\n",
    "\n",
    "plt.plot(\n",
    "    df.t.unique()[np.arange(window, 1020, 10)],\n",
    "    donor_df.groupby('t').agg('mean').rolling(window=window).mean().RAGE.to_numpy()[np.arange(window, 1020, 10)]\n",
    ")\n",
    "\n",
    "\n",
    "print(\n",
    "    'DAGE', \n",
    "    *list(zip(\n",
    "        donor_df.t.unique()[np.arange(window, 1020, 10)], \n",
    "        donor_df.groupby('t').agg('mean').rolling(window=window).mean().DAGE.to_numpy()[np.arange(window, 1020, 10)])),\n",
    "    sep=' '\n",
    ")\n",
    "\n",
    "\n",
    "print(\n",
    "    'RAGE', \n",
    "    *list(zip(\n",
    "        donor_df.t.unique()[np.arange(window, 1020, 10)], \n",
    "        donor_df.groupby('t').agg('mean').rolling(window=window).mean().RAGE.to_numpy()[np.arange(window, 1020, 10)])),\n",
    "    sep=' '\n",
    ")\n",
    "\n"
   ]
  },
  {
   "cell_type": "code",
   "execution_count": null,
   "metadata": {},
   "outputs": [],
   "source": [
    "np.arange(window, 1020, 10)"
   ]
  },
  {
   "cell_type": "code",
   "execution_count": null,
   "metadata": {},
   "outputs": [],
   "source": [
    "for c in resource_system.keys():\n",
    "    plt.plot(\n",
    "        df.t,\n",
    "        [resource_system[c].update_lam(t) for t in df.t], label=c)\n",
    "    \n",
    "    print(\n",
    "        c, \n",
    "        *list(zip(\n",
    "            np.arange(window, 1020, 10), \n",
    "            [resource_system[c].update_lam(t) for t in np.arange(window, 1020, 10)])),\n",
    "        sep=' '\n",
    "    )\n",
    "    print('\\n\\n')\n",
    "    \n",
    "plt.legend()"
   ]
  },
  {
   "cell_type": "code",
   "execution_count": null,
   "metadata": {},
   "outputs": [],
   "source": [
    "for c in patient_system.keys():\n",
    "    plt.plot(\n",
    "        df.t,\n",
    "        [patient_system[c].update_lam(t) for t in df.t], label=c)\n",
    "plt.legend()"
   ]
  },
  {
   "cell_type": "code",
   "execution_count": null,
   "metadata": {},
   "outputs": [],
   "source": [
    "df"
   ]
  },
  {
   "cell_type": "code",
   "execution_count": null,
   "metadata": {},
   "outputs": [],
   "source": [
    "df[df.DAGE.isna()][['DAGE', 'DBMI', 'INR', 'RSODIUM', 'SERUM_CREATININE', 'SEX_0', 'ttl', 't']]"
   ]
  },
  {
   "cell_type": "code",
   "execution_count": null,
   "metadata": {},
   "outputs": [],
   "source": [
    "plt.plot(\n",
    "    df.t.unique()[np.arange(window, 1020, 10)],\n",
    "    donor_df.groupby('t').agg('mean').rolling(window=window).mean().SEX_0.to_numpy()[np.arange(window, 1020, 10)],\n",
    "    label='M'\n",
    ")\n",
    "\n",
    "plt.plot(\n",
    "    df.t.unique()[np.arange(window, 1020, 10)],\n",
    "    donor_df.groupby('t').agg('mean').rolling(window=window).mean().SEX_1.to_numpy()[np.arange(window, 1020, 10)],\n",
    "    label='F'\n",
    ")\n",
    "\n",
    "\n",
    "\n",
    "\n",
    "\n",
    "plt.legend()\n",
    "\n",
    "\n",
    "\n",
    "\n",
    "\n",
    "\n",
    "print(\n",
    "    'M', \n",
    "    *list(zip(\n",
    "        donor_df.t.unique()[np.arange(window, 1020, 10)], \n",
    "        donor_df.groupby('t').agg('mean').rolling(window=window).mean().SEX_0.to_numpy()[np.arange(window, 1020, 10)])),\n",
    "    sep=\" \"\n",
    ")\n",
    "print('\\n\\n')\n",
    "\n",
    "print(\n",
    "    'F', \n",
    "    *list(zip(\n",
    "        donor_df.t.unique()[np.arange(window, 1020, 10)], \n",
    "        donor_df.groupby('t').agg('mean').rolling(window=window).mean().SEX_1.to_numpy()[np.arange(window, 1020, 10)])),\n",
    "    sep=\" \"\n",
    ")\n",
    "print('\\n\\n')\n",
    "\n"
   ]
  },
  {
   "cell_type": "code",
   "execution_count": null,
   "metadata": {},
   "outputs": [],
   "source": [
    "df_meld"
   ]
  },
  {
   "cell_type": "code",
   "execution_count": null,
   "metadata": {},
   "outputs": [],
   "source": [
    "torch.randn(inference_oite.model.input_dim)"
   ]
  }
 ],
 "metadata": {
  "kernelspec": {
   "display_name": "scrapsim",
   "language": "python",
   "name": "scrapsim"
  },
  "language_info": {
   "codemirror_mode": {
    "name": "ipython",
    "version": 3
   },
   "file_extension": ".py",
   "mimetype": "text/x-python",
   "name": "python",
   "nbconvert_exporter": "python",
   "pygments_lexer": "ipython3",
   "version": "3.8.6"
  }
 },
 "nbformat": 4,
 "nbformat_minor": 4
}
